{
  "nbformat": 4,
  "nbformat_minor": 0,
  "metadata": {
    "kernelspec": {
      "display_name": "Python 3",
      "language": "python",
      "name": "python3"
    },
    "language_info": {
      "codemirror_mode": {
        "name": "ipython",
        "version": 3
      },
      "file_extension": ".py",
      "mimetype": "text/x-python",
      "name": "python",
      "nbconvert_exporter": "python",
      "pygments_lexer": "ipython3",
      "version": "3.7.4"
    },
    "colab": {
      "provenance": [],
      "include_colab_link": true
    }
  },
  "cells": [
    {
      "cell_type": "markdown",
      "metadata": {
        "id": "view-in-github",
        "colab_type": "text"
      },
      "source": [
        "<a href=\"https://colab.research.google.com/github/katzdavid/EDA-Fall2022/blob/main/A3_EnergyManagementSystem_DRAFT.ipynb\" target=\"_parent\"><img src=\"https://colab.research.google.com/assets/colab-badge.svg\" alt=\"Open In Colab\"/></a>"
      ]
    },
    {
      "cell_type": "markdown",
      "metadata": {
        "id": "UTSWAyK4aXM6"
      },
      "source": [
        "# **ENV590.05 - Econ of Modern Power Systems - A3 - Residential PV + battery system management model**"
      ]
    },
    {
      "cell_type": "code",
      "metadata": {
        "colab": {
          "base_uri": "https://localhost:8080/"
        },
        "id": "Ybf3uRt9Z6pT",
        "outputId": "cb3af239-d422-44b9-bef3-1f80be5c20ba"
      },
      "source": [
        "from google.colab import drive\n",
        "drive.mount('/content/drive')"
      ],
      "execution_count": null,
      "outputs": [
        {
          "output_type": "stream",
          "name": "stdout",
          "text": [
            "Mounted at /content/drive\n"
          ]
        }
      ]
    },
    {
      "cell_type": "code",
      "metadata": {
        "id": "zFBz6O9Jbgae"
      },
      "source": [
        "import os\n",
        "os.chdir('/content/drive/MyDrive/Colab Notebooks/')"
      ],
      "execution_count": null,
      "outputs": []
    },
    {
      "cell_type": "markdown",
      "metadata": {
        "id": "uVXUnISKckjh"
      },
      "source": [
        "## Installing and Running Pyomo on Google Colab"
      ]
    },
    {
      "cell_type": "markdown",
      "metadata": {
        "id": "2TTAb-ffdI4v"
      },
      "source": [
        "To import/install a library that's not in Colaboratory by default, you can use !pip install. This needs to be done at the begining of you notebook. And you only need to run it once at the start of each Colab session."
      ]
    },
    {
      "cell_type": "code",
      "metadata": {
        "id": "demwApZCdXt5",
        "colab": {
          "base_uri": "https://localhost:8080/"
        },
        "outputId": "397cf705-9a20-44e9-b35c-858ff112ae07"
      },
      "source": [
        "!pip install pyomo"
      ],
      "execution_count": null,
      "outputs": [
        {
          "output_type": "stream",
          "name": "stdout",
          "text": [
            "Looking in indexes: https://pypi.org/simple, https://us-python.pkg.dev/colab-wheels/public/simple/\n",
            "Collecting pyomo\n",
            "  Downloading Pyomo-6.4.2-cp37-cp37m-manylinux_2_12_x86_64.manylinux2010_x86_64.whl (9.7 MB)\n",
            "\u001b[K     |████████████████████████████████| 9.7 MB 9.1 MB/s \n",
            "\u001b[?25hCollecting ply\n",
            "  Downloading ply-3.11-py2.py3-none-any.whl (49 kB)\n",
            "\u001b[K     |████████████████████████████████| 49 kB 6.2 MB/s \n",
            "\u001b[?25hInstalling collected packages: ply, pyomo\n",
            "Successfully installed ply-3.11 pyomo-6.4.2\n"
          ]
        }
      ]
    },
    {
      "cell_type": "markdown",
      "metadata": {
        "id": "z1gRSEXcdnms"
      },
      "source": [
        "## Installing optimization solver\n",
        "\n",
        "Pyomo does not include any optimization solvers. Therefore, you will need to install third-party solvers to solve optimization models built with Pyomo. There are several solver options, for this class we will use glpk.\n",
        "We'll install glpk using apt-get. "
      ]
    },
    {
      "cell_type": "code",
      "metadata": {
        "id": "7SacEI5mdxI2",
        "colab": {
          "base_uri": "https://localhost:8080/"
        },
        "outputId": "d6f1402f-bff2-48f3-fdfb-0b4be579bc1e"
      },
      "source": [
        "!apt-get install -y -qq glpk-utils"
      ],
      "execution_count": null,
      "outputs": [
        {
          "output_type": "stream",
          "name": "stdout",
          "text": [
            "Selecting previously unselected package libsuitesparseconfig5:amd64.\n",
            "(Reading database ... 123934 files and directories currently installed.)\n",
            "Preparing to unpack .../libsuitesparseconfig5_1%3a5.1.2-2_amd64.deb ...\n",
            "Unpacking libsuitesparseconfig5:amd64 (1:5.1.2-2) ...\n",
            "Selecting previously unselected package libamd2:amd64.\n",
            "Preparing to unpack .../libamd2_1%3a5.1.2-2_amd64.deb ...\n",
            "Unpacking libamd2:amd64 (1:5.1.2-2) ...\n",
            "Selecting previously unselected package libcolamd2:amd64.\n",
            "Preparing to unpack .../libcolamd2_1%3a5.1.2-2_amd64.deb ...\n",
            "Unpacking libcolamd2:amd64 (1:5.1.2-2) ...\n",
            "Selecting previously unselected package libglpk40:amd64.\n",
            "Preparing to unpack .../libglpk40_4.65-1_amd64.deb ...\n",
            "Unpacking libglpk40:amd64 (4.65-1) ...\n",
            "Selecting previously unselected package glpk-utils.\n",
            "Preparing to unpack .../glpk-utils_4.65-1_amd64.deb ...\n",
            "Unpacking glpk-utils (4.65-1) ...\n",
            "Setting up libsuitesparseconfig5:amd64 (1:5.1.2-2) ...\n",
            "Setting up libcolamd2:amd64 (1:5.1.2-2) ...\n",
            "Setting up libamd2:amd64 (1:5.1.2-2) ...\n",
            "Setting up libglpk40:amd64 (4.65-1) ...\n",
            "Setting up glpk-utils (4.65-1) ...\n",
            "Processing triggers for libc-bin (2.27-3ubuntu1.6) ...\n",
            "Processing triggers for man-db (2.8.3-2ubuntu0.1) ...\n"
          ]
        }
      ]
    },
    {
      "cell_type": "markdown",
      "metadata": {
        "id": "tGwd2ywmeJ72"
      },
      "source": [
        "## Import Pyomo and solver\n",
        "\n",
        "The first step in any Pyomo project is to import relevant components of the Pyomo library. This can be done with the following python statement 'from pyomo.environ import *'. \\\\\n",
        "\n",
        "We use the * symbol to elimate the need of using the expression pyomo.environ every time we need to use a pyomo function. \\\\\n",
        "\n",
        "You also need to load the solver. The Pyomo libary includes a SolverFactory() class used to specify a solver. Here we will use\n",
        "**glpk** which works for linear problems, put **cbc** from coin OR could be used for nonlinear applications. "
      ]
    },
    {
      "cell_type": "code",
      "metadata": {
        "id": "qR3PKPtvZ4eL"
      },
      "source": [
        "from pyomo.environ import *\n",
        "#Import solver\n",
        "opt=SolverFactory('glpk')"
      ],
      "execution_count": null,
      "outputs": []
    },
    {
      "cell_type": "markdown",
      "metadata": {
        "id": "gAIEeG-qRj5t"
      },
      "source": [
        "## Importing Case Study data set\n"
      ]
    },
    {
      "cell_type": "code",
      "metadata": {
        "id": "b4RTH5SsRjQS"
      },
      "source": [
        "import pandas as pd\n",
        "import numpy as np\n",
        "import matplotlib.pyplot as plt"
      ],
      "execution_count": null,
      "outputs": []
    },
    {
      "cell_type": "code",
      "metadata": {
        "id": "JQl85UmeRv5F",
        "colab": {
          "base_uri": "https://localhost:8080/",
          "height": 793
        },
        "outputId": "cc30f829-1335-456d-da5c-e51b15352e0d"
      },
      "source": [
        "storage = pd.read_csv(\"Pdata.csv\")\n",
        "storage.columns = [\"Time\", \"P_PV\", \"PLoad\", \"C_t\"] #P_PV_t = PV generation, C_t = electricity rate\n",
        "storage.head(24)"
      ],
      "execution_count": null,
      "outputs": [
        {
          "output_type": "execute_result",
          "data": {
            "text/plain": [
              "                Time      P_PV  PLoad       C_t\n",
              "0   Sep 18, 12:00 am  0.000000   2.05  0.099964\n",
              "1    Sep 18, 1:00 am  0.000000   0.32  0.099964\n",
              "2    Sep 18, 2:00 am  0.000000   1.72  0.099964\n",
              "3    Sep 18, 3:00 am  0.000000   0.34  0.099964\n",
              "4    Sep 18, 4:00 am  0.000000   1.58  0.099964\n",
              "5    Sep 18, 5:00 am  0.000000   0.34  0.099964\n",
              "6    Sep 18, 6:00 am  0.230828   0.83  0.099964\n",
              "7    Sep 18, 7:00 am  1.532470   1.55  0.099964\n",
              "8    Sep 18, 8:00 am  3.199970   0.51  0.099964\n",
              "9    Sep 18, 9:00 am  4.539360   1.98  0.099964\n",
              "10  Sep 18, 10:00 am  4.327650   0.37  0.099964\n",
              "11  Sep 18, 11:00 am  2.078930   2.50  0.099964\n",
              "12  Sep 18, 12:00 pm  3.827060   2.08  0.099964\n",
              "13   Sep 18, 1:00 pm  5.545510   1.86  0.099964\n",
              "14   Sep 18, 2:00 pm  4.793160   3.42  0.099964\n",
              "15   Sep 18, 3:00 pm  3.049910   1.55  0.099964\n",
              "16   Sep 18, 4:00 pm  1.386260   2.88  0.099964\n",
              "17   Sep 18, 5:00 pm  0.353036   2.34  0.099964\n",
              "18   Sep 18, 6:00 pm  0.000000   3.10  0.099964\n",
              "19   Sep 18, 7:00 pm  0.000000   2.22  0.099964\n",
              "20   Sep 18, 8:00 pm  0.000000   2.79  0.099964\n",
              "21   Sep 18, 9:00 pm  0.000000   1.05  0.099964\n",
              "22  Sep 18, 10:00 pm  0.000000   1.10  0.099964\n",
              "23  Sep 18, 11:00 pm  0.000000   1.47  0.099964"
            ],
            "text/html": [
              "\n",
              "  <div id=\"df-68625d2b-634d-45d5-bfb5-c2df0293841d\">\n",
              "    <div class=\"colab-df-container\">\n",
              "      <div>\n",
              "<style scoped>\n",
              "    .dataframe tbody tr th:only-of-type {\n",
              "        vertical-align: middle;\n",
              "    }\n",
              "\n",
              "    .dataframe tbody tr th {\n",
              "        vertical-align: top;\n",
              "    }\n",
              "\n",
              "    .dataframe thead th {\n",
              "        text-align: right;\n",
              "    }\n",
              "</style>\n",
              "<table border=\"1\" class=\"dataframe\">\n",
              "  <thead>\n",
              "    <tr style=\"text-align: right;\">\n",
              "      <th></th>\n",
              "      <th>Time</th>\n",
              "      <th>P_PV</th>\n",
              "      <th>PLoad</th>\n",
              "      <th>C_t</th>\n",
              "    </tr>\n",
              "  </thead>\n",
              "  <tbody>\n",
              "    <tr>\n",
              "      <th>0</th>\n",
              "      <td>Sep 18, 12:00 am</td>\n",
              "      <td>0.000000</td>\n",
              "      <td>2.05</td>\n",
              "      <td>0.099964</td>\n",
              "    </tr>\n",
              "    <tr>\n",
              "      <th>1</th>\n",
              "      <td>Sep 18, 1:00 am</td>\n",
              "      <td>0.000000</td>\n",
              "      <td>0.32</td>\n",
              "      <td>0.099964</td>\n",
              "    </tr>\n",
              "    <tr>\n",
              "      <th>2</th>\n",
              "      <td>Sep 18, 2:00 am</td>\n",
              "      <td>0.000000</td>\n",
              "      <td>1.72</td>\n",
              "      <td>0.099964</td>\n",
              "    </tr>\n",
              "    <tr>\n",
              "      <th>3</th>\n",
              "      <td>Sep 18, 3:00 am</td>\n",
              "      <td>0.000000</td>\n",
              "      <td>0.34</td>\n",
              "      <td>0.099964</td>\n",
              "    </tr>\n",
              "    <tr>\n",
              "      <th>4</th>\n",
              "      <td>Sep 18, 4:00 am</td>\n",
              "      <td>0.000000</td>\n",
              "      <td>1.58</td>\n",
              "      <td>0.099964</td>\n",
              "    </tr>\n",
              "    <tr>\n",
              "      <th>5</th>\n",
              "      <td>Sep 18, 5:00 am</td>\n",
              "      <td>0.000000</td>\n",
              "      <td>0.34</td>\n",
              "      <td>0.099964</td>\n",
              "    </tr>\n",
              "    <tr>\n",
              "      <th>6</th>\n",
              "      <td>Sep 18, 6:00 am</td>\n",
              "      <td>0.230828</td>\n",
              "      <td>0.83</td>\n",
              "      <td>0.099964</td>\n",
              "    </tr>\n",
              "    <tr>\n",
              "      <th>7</th>\n",
              "      <td>Sep 18, 7:00 am</td>\n",
              "      <td>1.532470</td>\n",
              "      <td>1.55</td>\n",
              "      <td>0.099964</td>\n",
              "    </tr>\n",
              "    <tr>\n",
              "      <th>8</th>\n",
              "      <td>Sep 18, 8:00 am</td>\n",
              "      <td>3.199970</td>\n",
              "      <td>0.51</td>\n",
              "      <td>0.099964</td>\n",
              "    </tr>\n",
              "    <tr>\n",
              "      <th>9</th>\n",
              "      <td>Sep 18, 9:00 am</td>\n",
              "      <td>4.539360</td>\n",
              "      <td>1.98</td>\n",
              "      <td>0.099964</td>\n",
              "    </tr>\n",
              "    <tr>\n",
              "      <th>10</th>\n",
              "      <td>Sep 18, 10:00 am</td>\n",
              "      <td>4.327650</td>\n",
              "      <td>0.37</td>\n",
              "      <td>0.099964</td>\n",
              "    </tr>\n",
              "    <tr>\n",
              "      <th>11</th>\n",
              "      <td>Sep 18, 11:00 am</td>\n",
              "      <td>2.078930</td>\n",
              "      <td>2.50</td>\n",
              "      <td>0.099964</td>\n",
              "    </tr>\n",
              "    <tr>\n",
              "      <th>12</th>\n",
              "      <td>Sep 18, 12:00 pm</td>\n",
              "      <td>3.827060</td>\n",
              "      <td>2.08</td>\n",
              "      <td>0.099964</td>\n",
              "    </tr>\n",
              "    <tr>\n",
              "      <th>13</th>\n",
              "      <td>Sep 18, 1:00 pm</td>\n",
              "      <td>5.545510</td>\n",
              "      <td>1.86</td>\n",
              "      <td>0.099964</td>\n",
              "    </tr>\n",
              "    <tr>\n",
              "      <th>14</th>\n",
              "      <td>Sep 18, 2:00 pm</td>\n",
              "      <td>4.793160</td>\n",
              "      <td>3.42</td>\n",
              "      <td>0.099964</td>\n",
              "    </tr>\n",
              "    <tr>\n",
              "      <th>15</th>\n",
              "      <td>Sep 18, 3:00 pm</td>\n",
              "      <td>3.049910</td>\n",
              "      <td>1.55</td>\n",
              "      <td>0.099964</td>\n",
              "    </tr>\n",
              "    <tr>\n",
              "      <th>16</th>\n",
              "      <td>Sep 18, 4:00 pm</td>\n",
              "      <td>1.386260</td>\n",
              "      <td>2.88</td>\n",
              "      <td>0.099964</td>\n",
              "    </tr>\n",
              "    <tr>\n",
              "      <th>17</th>\n",
              "      <td>Sep 18, 5:00 pm</td>\n",
              "      <td>0.353036</td>\n",
              "      <td>2.34</td>\n",
              "      <td>0.099964</td>\n",
              "    </tr>\n",
              "    <tr>\n",
              "      <th>18</th>\n",
              "      <td>Sep 18, 6:00 pm</td>\n",
              "      <td>0.000000</td>\n",
              "      <td>3.10</td>\n",
              "      <td>0.099964</td>\n",
              "    </tr>\n",
              "    <tr>\n",
              "      <th>19</th>\n",
              "      <td>Sep 18, 7:00 pm</td>\n",
              "      <td>0.000000</td>\n",
              "      <td>2.22</td>\n",
              "      <td>0.099964</td>\n",
              "    </tr>\n",
              "    <tr>\n",
              "      <th>20</th>\n",
              "      <td>Sep 18, 8:00 pm</td>\n",
              "      <td>0.000000</td>\n",
              "      <td>2.79</td>\n",
              "      <td>0.099964</td>\n",
              "    </tr>\n",
              "    <tr>\n",
              "      <th>21</th>\n",
              "      <td>Sep 18, 9:00 pm</td>\n",
              "      <td>0.000000</td>\n",
              "      <td>1.05</td>\n",
              "      <td>0.099964</td>\n",
              "    </tr>\n",
              "    <tr>\n",
              "      <th>22</th>\n",
              "      <td>Sep 18, 10:00 pm</td>\n",
              "      <td>0.000000</td>\n",
              "      <td>1.10</td>\n",
              "      <td>0.099964</td>\n",
              "    </tr>\n",
              "    <tr>\n",
              "      <th>23</th>\n",
              "      <td>Sep 18, 11:00 pm</td>\n",
              "      <td>0.000000</td>\n",
              "      <td>1.47</td>\n",
              "      <td>0.099964</td>\n",
              "    </tr>\n",
              "  </tbody>\n",
              "</table>\n",
              "</div>\n",
              "      <button class=\"colab-df-convert\" onclick=\"convertToInteractive('df-68625d2b-634d-45d5-bfb5-c2df0293841d')\"\n",
              "              title=\"Convert this dataframe to an interactive table.\"\n",
              "              style=\"display:none;\">\n",
              "        \n",
              "  <svg xmlns=\"http://www.w3.org/2000/svg\" height=\"24px\"viewBox=\"0 0 24 24\"\n",
              "       width=\"24px\">\n",
              "    <path d=\"M0 0h24v24H0V0z\" fill=\"none\"/>\n",
              "    <path d=\"M18.56 5.44l.94 2.06.94-2.06 2.06-.94-2.06-.94-.94-2.06-.94 2.06-2.06.94zm-11 1L8.5 8.5l.94-2.06 2.06-.94-2.06-.94L8.5 2.5l-.94 2.06-2.06.94zm10 10l.94 2.06.94-2.06 2.06-.94-2.06-.94-.94-2.06-.94 2.06-2.06.94z\"/><path d=\"M17.41 7.96l-1.37-1.37c-.4-.4-.92-.59-1.43-.59-.52 0-1.04.2-1.43.59L10.3 9.45l-7.72 7.72c-.78.78-.78 2.05 0 2.83L4 21.41c.39.39.9.59 1.41.59.51 0 1.02-.2 1.41-.59l7.78-7.78 2.81-2.81c.8-.78.8-2.07 0-2.86zM5.41 20L4 18.59l7.72-7.72 1.47 1.35L5.41 20z\"/>\n",
              "  </svg>\n",
              "      </button>\n",
              "      \n",
              "  <style>\n",
              "    .colab-df-container {\n",
              "      display:flex;\n",
              "      flex-wrap:wrap;\n",
              "      gap: 12px;\n",
              "    }\n",
              "\n",
              "    .colab-df-convert {\n",
              "      background-color: #E8F0FE;\n",
              "      border: none;\n",
              "      border-radius: 50%;\n",
              "      cursor: pointer;\n",
              "      display: none;\n",
              "      fill: #1967D2;\n",
              "      height: 32px;\n",
              "      padding: 0 0 0 0;\n",
              "      width: 32px;\n",
              "    }\n",
              "\n",
              "    .colab-df-convert:hover {\n",
              "      background-color: #E2EBFA;\n",
              "      box-shadow: 0px 1px 2px rgba(60, 64, 67, 0.3), 0px 1px 3px 1px rgba(60, 64, 67, 0.15);\n",
              "      fill: #174EA6;\n",
              "    }\n",
              "\n",
              "    [theme=dark] .colab-df-convert {\n",
              "      background-color: #3B4455;\n",
              "      fill: #D2E3FC;\n",
              "    }\n",
              "\n",
              "    [theme=dark] .colab-df-convert:hover {\n",
              "      background-color: #434B5C;\n",
              "      box-shadow: 0px 1px 3px 1px rgba(0, 0, 0, 0.15);\n",
              "      filter: drop-shadow(0px 1px 2px rgba(0, 0, 0, 0.3));\n",
              "      fill: #FFFFFF;\n",
              "    }\n",
              "  </style>\n",
              "\n",
              "      <script>\n",
              "        const buttonEl =\n",
              "          document.querySelector('#df-68625d2b-634d-45d5-bfb5-c2df0293841d button.colab-df-convert');\n",
              "        buttonEl.style.display =\n",
              "          google.colab.kernel.accessAllowed ? 'block' : 'none';\n",
              "\n",
              "        async function convertToInteractive(key) {\n",
              "          const element = document.querySelector('#df-68625d2b-634d-45d5-bfb5-c2df0293841d');\n",
              "          const dataTable =\n",
              "            await google.colab.kernel.invokeFunction('convertToInteractive',\n",
              "                                                     [key], {});\n",
              "          if (!dataTable) return;\n",
              "\n",
              "          const docLinkHtml = 'Like what you see? Visit the ' +\n",
              "            '<a target=\"_blank\" href=https://colab.research.google.com/notebooks/data_table.ipynb>data table notebook</a>'\n",
              "            + ' to learn more about interactive tables.';\n",
              "          element.innerHTML = '';\n",
              "          dataTable['output_type'] = 'display_data';\n",
              "          await google.colab.output.renderOutput(dataTable, element);\n",
              "          const docLink = document.createElement('div');\n",
              "          docLink.innerHTML = docLinkHtml;\n",
              "          element.appendChild(docLink);\n",
              "        }\n",
              "      </script>\n",
              "    </div>\n",
              "  </div>\n",
              "  "
            ]
          },
          "metadata": {},
          "execution_count": 10
        }
      ]
    },
    {
      "cell_type": "markdown",
      "metadata": {
        "id": "6hSbQ18FZLol"
      },
      "source": [
        "## Approach 2: Create Model with vectors and numpy"
      ]
    },
    {
      "cell_type": "code",
      "metadata": {
        "id": "PyUrIxCcZK08"
      },
      "source": [
        "#Creating model\n",
        "model = ConcreteModel()"
      ],
      "execution_count": null,
      "outputs": []
    },
    {
      "cell_type": "code",
      "metadata": {
        "id": "Y2Evy0hyZQcW"
      },
      "source": [
        "T=range(24)  #set of hours\n",
        "P_PV = storage.loc[:,\"P_PV\"]\n",
        "P_load = storage.loc[:,\"PLoad\"]\n",
        "C = storage.loc[:,\"C_t\"]\n",
        "SOC_0 = 0.2\n",
        "Eff = 0.92\n",
        "StoCap = 4"
      ],
      "execution_count": null,
      "outputs": []
    },
    {
      "cell_type": "code",
      "metadata": {
        "id": "6QnxHBkMZjSe"
      },
      "source": [
        "model.Pgrid = Var(T, domain = NonNegativeReals)  #Pgrid\n",
        "model.Pch = Var(T, domain = NonNegativeReals, bounds = (0,3))    #Pcharge\n",
        "model.Pdisch = Var(T, domain = NonNegativeReals, bounds = (0,3)) #Pdischarge\n",
        "model.Pslack = Var(T, domain = NonNegativeReals) #Pslack\n",
        "model.SOC = Var(T, domain = NonNegativeReals, bounds = (0.2,0.8))  #State of charge"
      ],
      "execution_count": null,
      "outputs": []
    },
    {
      "cell_type": "code",
      "metadata": {
        "id": "EJdFz1ULZqr6"
      },
      "source": [
        "#Adding objective function\n"
      ],
      "execution_count": null,
      "outputs": []
    },
    {
      "cell_type": "code",
      "metadata": {
        "id": "rC4RQwYYZ0Fj"
      },
      "source": [
        "#Adding constraints\n",
        "model.constraints = ConstraintList()\n",
        "\n",
        "for t in T:\n",
        "  #power balance\n",
        "\n",
        "  #charge balance\n",
        "  if (t==0):\n",
        "\n",
        "  else:\n",
        "    \n",
        "\n",
        "  #storage only charging from PV  \n",
        "\n",
        "  #storage only discharging to supply house demand/load\n"
      ],
      "execution_count": null,
      "outputs": []
    },
    {
      "cell_type": "code",
      "metadata": {
        "id": "cvjfi5rjarGh"
      },
      "source": [
        "#Solve Model\n",
        "opt.solve(model)\n",
        "\n",
        "print(\"Cost =\", model.cost_func())\n",
        "print(\"\\n\")"
      ],
      "execution_count": null,
      "outputs": []
    },
    {
      "cell_type": "markdown",
      "metadata": {
        "id": "LzJ8jtHpaZL2"
      },
      "source": [
        "Since we didn't go over how to generate plots in Python, I will provide the code that will get the decision variables value, store in a data frame and then generate plots to visualize the results.\n",
        "\n",
        "Let's start by creating a data frame with the value of all decision variables for the 24 hours of the day. "
      ]
    },
    {
      "cell_type": "code",
      "metadata": {
        "id": "7D-w7FXabJoz"
      },
      "source": [
        "sys_op_sch = pd.DataFrame(np.zeros((24,6)))\n",
        "\n",
        "for t in T:\n",
        "  sys_op_sch.iloc[t,0] = t+1\n",
        "  sys_op_sch.iloc[t,1] =  model.Pgrid[t].value\n",
        "  sys_op_sch.iloc[t,2] =  model.Pch[t].value\n",
        "  sys_op_sch.iloc[t,3] =  model.Pdisch[t].value\n",
        "  sys_op_sch.iloc[t,4] =  model.Pslack[t].value\n",
        "  sys_op_sch.iloc[t,5] =  model.SOC[t].value\n",
        "\n",
        "sys_op_sch = sys_op_sch.rename(columns={0:\"Hour\",1:\"Pgrid\",2:\"Pcharge\",3:\"Pdischarge\",4:\"Pslack\",5:\"SOC\"})\n",
        "print(sys_op_sch)\n"
      ],
      "execution_count": null,
      "outputs": []
    },
    {
      "cell_type": "markdown",
      "metadata": {
        "id": "-wLcdX9Mb32c"
      },
      "source": [
        "The ggplot will automatically plot all columns in the same graph and add a legend as long as you gather the data frame as shown in the code below. Note that we just stacked the columns."
      ]
    },
    {
      "cell_type": "code",
      "metadata": {
        "id": "VFKyBw3Bcdtx"
      },
      "source": [
        "sys_op_sch_gather=sys_op_sch.melt(id_vars=[\"Hour\"])\n",
        "sys_op_sch_gather.head(30)"
      ],
      "execution_count": null,
      "outputs": []
    },
    {
      "cell_type": "markdown",
      "metadata": {
        "id": "x0tBpb9ceFfR"
      },
      "source": [
        "Now we have a data frame ready to be used by ggplot. All we have to do is create the plot. "
      ]
    },
    {
      "cell_type": "code",
      "metadata": {
        "id": "ckV-UEmi_O2K"
      },
      "source": [
        "#Create plot with ggplot from library plotnine\n",
        "from plotnine import ggplot, aes, geom_line\n",
        "(\n",
        "    ggplot(sys_op_sch_gather,aes(x=\"Hour\",y=\"value\",color=\"variable\"))  \n",
        "     + geom_line()\n",
        ")\n"
      ],
      "execution_count": null,
      "outputs": []
    }
  ]
}